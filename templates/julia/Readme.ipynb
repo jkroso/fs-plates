{
 "metadata": {
  "language": "Julia",
  "name": "",
  "signature": "sha256:e333a7661fbe3bfa30171c90e5d7e4518310fb438c348dbc6536050209d1468f"
 },
 "nbformat": 3,
 "nbformat_minor": 0,
 "worksheets": [
  {
   "cells": [
    {
     "cell_type": "markdown",
     "metadata": {},
     "source": [
      "# {{project_name}}\n",
      "\n",
      "{{description}}\n",
      "\n",
      "## Installation\n",
      "\n",
      "With [packin](//github.com/jkroso/packin): `packin add {{username}}/{{project_name}}`"
     ]
    },
    {
     "cell_type": "code",
     "collapsed": false,
     "input": [
      "@require \"{{project_name}}\";"
     ],
     "language": "python",
     "metadata": {},
     "outputs": [],
     "prompt_number": 1
    },
    {
     "cell_type": "markdown",
     "metadata": {},
     "source": [
      "## API"
     ]
    }
   ],
   "metadata": {}
  }
 ]
}